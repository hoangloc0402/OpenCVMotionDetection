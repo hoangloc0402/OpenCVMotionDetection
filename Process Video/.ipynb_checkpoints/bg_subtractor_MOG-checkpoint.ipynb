{
 "cells": [
  {
   "cell_type": "code",
   "execution_count": 11,
   "metadata": {},
   "outputs": [],
   "source": [
    "import numpy as np\n",
    "import cv2\n",
    "from cv2 import bgsegm"
   ]
  },
  {
   "cell_type": "code",
   "execution_count": 12,
   "metadata": {},
   "outputs": [],
   "source": [
    "threshhold = 20\n",
    "min_contour_area = 300\n",
    "camera = cv2.VideoCapture('traffic_source.mp4')\n",
    "out = cv2.VideoWriter('traffic_bg_subtractor_MOG.mp4', \n",
    "                      fourcc =  cv2.VideoWriter.fourcc(*'XVID'), \n",
    "                      fps=25.0, frameSize = (640,360), isColor=True)\n",
    "out_thresh = cv2.VideoWriter('traffic_bg_subtractor_MOG_thresh.mp4', \n",
    "                      fourcc =  cv2.VideoWriter.fourcc(*'XVID'), \n",
    "                      fps=25.0, frameSize = (640,360), isColor=False)"
   ]
  },
  {
   "cell_type": "code",
   "execution_count": 14,
   "metadata": {},
   "outputs": [],
   "source": [
    "bg_subtractor_MOG = cv2.bgsegm.createBackgroundSubtractorMOG(history=200,\n",
    "                                                             nmixtures=5, \n",
    "                                                             backgroundRatio=0.2, \n",
    "                                                             noiseSigma=0)\n",
    "\n",
    "while(1):\n",
    "    frame_remain, frame_current = camera.read()\n",
    "    if frame_remain:\n",
    "        fgmask = bg_subtractor_MOG.apply(frame_current)\n",
    "        frame_processed = cv2.bitwise_and(frame_current,frame_current,mask = fgmask) #AND 2 frame lại để lấy được foreground\n",
    "        frame_processed = cv2.threshold(frame_processed, threshhold, 255, cv2.THRESH_BINARY)[1] #Apply threshhold \n",
    "        frame_processed = cv2.cvtColor(frame_processed, cv2.COLOR_BGR2GRAY) #Chuyển sang ảnh xám\n",
    "\n",
    "        (_, contours, _) = cv2.findContours(frame_processed.copy(), cv2.RETR_EXTERNAL, cv2.CHAIN_APPROX_SIMPLE)   \n",
    "        for contour in contours: \n",
    "            if cv2.contourArea(contour) > min_contour_area: \n",
    "                (x, y, w, h) = cv2.boundingRect(contour) \n",
    "                cv2.rectangle(frame_current, (x, y), (x + w, y + h), (0, 0, 255), 3) #Vẽ box màu xanh lá\n",
    "\n",
    "        out.write(frame_current)\n",
    "        out_thresh.write(frame_processed)\n",
    "    else:\n",
    "        break\n",
    "        \n",
    "camera.release()\n",
    "out.release()\n",
    "out_thresh.release()\n",
    "print('Finish!!!')"
   ]
  },
  {
   "cell_type": "code",
   "execution_count": null,
   "metadata": {},
   "outputs": [],
   "source": []
  }
 ],
 "metadata": {
  "kernelspec": {
   "display_name": "Python 3",
   "language": "python",
   "name": "python3"
  },
  "language_info": {
   "codemirror_mode": {
    "name": "ipython",
    "version": 3
   },
   "file_extension": ".py",
   "mimetype": "text/x-python",
   "name": "python",
   "nbconvert_exporter": "python",
   "pygments_lexer": "ipython3",
   "version": "3.6.5"
  }
 },
 "nbformat": 4,
 "nbformat_minor": 2
}
