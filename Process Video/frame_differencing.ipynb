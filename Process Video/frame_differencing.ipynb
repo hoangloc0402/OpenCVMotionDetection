{
 "cells": [
  {
   "cell_type": "code",
   "execution_count": 1,
   "metadata": {},
   "outputs": [],
   "source": [
    "import cv2\n",
    "import numpy as np"
   ]
  },
  {
   "cell_type": "code",
   "execution_count": 6,
   "metadata": {},
   "outputs": [],
   "source": [
    "beta = 0.1\n",
    "threshhold = 20\n",
    "min_contour_area = 300\n",
    "frame_background = None\n",
    "camera = cv2.VideoCapture('traffic_source.mp4')\n",
    "out = cv2.VideoWriter('traffic_frame_differencing.mp4', \n",
    "                      fourcc =  cv2.VideoWriter.fourcc(*'XVID'), \n",
    "                      fps=25.0, frameSize = (640,360), isColor=True)\n",
    "out_thresh = cv2.VideoWriter('traffic_frame_differencing_thresh.mp4', \n",
    "                      fourcc =  cv2.VideoWriter.fourcc(*'XVID'), \n",
    "                      fps=25.0, frameSize = (640,360), isColor=False)"
   ]
  },
  {
   "cell_type": "code",
   "execution_count": 7,
   "metadata": {},
   "outputs": [
    {
     "name": "stdout",
     "output_type": "stream",
     "text": [
      "Finish!!!\n"
     ]
    }
   ],
   "source": [
    "while(1):\n",
    "    frame_remain, frame_current = camera.read()\n",
    "    if frame_remain:\n",
    "        frame_gray = cv2.cvtColor(frame_current, cv2.COLOR_BGR2GRAY) #Chuyển sang ảnh xám    \n",
    "        frame_gray = cv2.GaussianBlur(frame_gray, (21, 21), 0)     #Đặt filter Gaussian để blur ảnh (xoá bớt nhiễu)   \n",
    "        global frame_background\n",
    "        if frame_background is None: \n",
    "            frame_background = frame_gray \n",
    "            continue  \n",
    "        frame_diff = cv2.absdiff(frame_background, frame_gray) #Lấy difference\n",
    "\n",
    "        frame_thresh = cv2.threshold(frame_diff, threshhold, 255, cv2.THRESH_BINARY)[1] #Apply threshhold\n",
    "        frame_thresh = cv2.dilate(frame_thresh, None, iterations = 2)  \n",
    "            \n",
    "\n",
    "        (_, contours, _) = cv2.findContours(frame_thresh.copy(), cv2.RETR_EXTERNAL, cv2.CHAIN_APPROX_SIMPLE)   \n",
    "        for contour in contours: \n",
    "            if cv2.contourArea(contour) > min_contour_area: \n",
    "                (x, y, w, h) = cv2.boundingRect(contour) \n",
    "                cv2.rectangle(frame_current, (x, y), (x + w, y + h), (164, 66, 244), 3) \n",
    "        out.write(frame_current)\n",
    "        out_thresh.write(frame_thresh)\n",
    "    else:\n",
    "        break\n",
    "camera.release()\n",
    "out.release()\n",
    "out_thresh.release()\n",
    "print('Finish!!!')"
   ]
  },
  {
   "cell_type": "code",
   "execution_count": null,
   "metadata": {},
   "outputs": [],
   "source": []
  }
 ],
 "metadata": {
  "kernelspec": {
   "display_name": "Python 3",
   "language": "python",
   "name": "python3"
  },
  "language_info": {
   "codemirror_mode": {
    "name": "ipython",
    "version": 3
   },
   "file_extension": ".py",
   "mimetype": "text/x-python",
   "name": "python",
   "nbconvert_exporter": "python",
   "pygments_lexer": "ipython3",
   "version": "3.6.5"
  }
 },
 "nbformat": 4,
 "nbformat_minor": 2
}
